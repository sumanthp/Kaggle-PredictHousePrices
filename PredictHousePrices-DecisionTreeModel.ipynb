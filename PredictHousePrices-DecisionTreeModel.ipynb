#Pandas framework to deal with data
import pandas as pd
#DecisionTree Algorithm import
from sklearn.tree import DecisionTreeRegressor
#Mean Absolute Error function to validate the prediction
from sklearn.metrics import mean_absolute_error
#train_test_split function to split the data into traning and validation data for better prediction
from sklearn.model_selection import train_test_split

#csv file path to read the data
lowa_data = '../input/train.csv'

#data from csv file is read and stored in lowa_data attribute
lowa_data=pd.read_csv(lowa_data)
#describe() function provides various details on the data
print(lowa_data.describe())

#Attribute SalePrice is extracted and stored in sales_price attribute
sales_price = lowa_data.SalePrice

#head() is used to displayed first five values of the attribute sales_price
print(sales_price.head())

#particular columns can be extracted from the data
subset_columns = ['YrSold','SalePrice']
subset_data = lowa_data[subset_columns]
print(subset_data.describe())

#features are created to predict the house price, Y is taken as SalePrice which is the attribute to be predicted by the model
Y=lowa_data.SalePrice
#Certain Attributes are used for prediction
predictors=['LotArea','YearBuilt','1stFlrSF','2ndFlrSF','FullBath','BedroomAbvGr','TotRmsAbvGrd']
#data of the predictors is stored in attribute X
X=lowa_data[predictors]


#DecisionTree Model is created
lowa_model=DecisionTreeRegressor()
#Model is fitted with X and Y 
lowa_model.fit(X,Y)
print('The first five values of the predictors used')
print(x.head())
print(lowa_model.predict(x.head()))

predicted_prices=lowa_model.predict(x)
#Mean Absolute Error is calculated on predicted values with actual values
mae=mean_absolute_error(y,predicted_prices)
print('Mean Absolute Error on the model')
print(mae)

#data is split into training and validation data
train_x,val_x,train_y,val_y=train_test_split(x,y,random_state=0)
lowa_model.fit(train_x,train_y)
price_predictions=lowa_model.predict(val_x)
print('Mean Absolute Error for predicted values on validation data with actual validation prices')
print(mean_absolute_error(val_y,price_predictions))